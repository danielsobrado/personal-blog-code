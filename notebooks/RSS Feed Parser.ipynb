{
 "cells": [
  {
   "cell_type": "code",
   "execution_count": 1,
   "metadata": {},
   "outputs": [],
   "source": [
    "import feedparser"
   ]
  },
  {
   "cell_type": "code",
   "execution_count": 2,
   "metadata": {},
   "outputs": [],
   "source": [
    "d = feedparser.parse('https://seekingalpha.com/feed.xml')\n",
    "print(d.entries[0]['link']) "
   ]
  },
  {
   "cell_type": "code",
   "execution_count": 8,
   "metadata": {},
   "outputs": [
    {
     "name": "stdout",
     "output_type": "stream",
     "text": [
      "Yields Falling, Who Could Be Buying Without QEs?: https://seekingalpha.com/article/4230633-yields-falling-buying-without-qes\n",
      "Gold: Not Quite Time: https://seekingalpha.com/article/4230225-gold-quite-time\n",
      "Dollar Might Face Hard Times In 2019: https://seekingalpha.com/article/4230632-dollar-might-face-hard-times-2019\n",
      "Earnings Roundup: Will Analysts Drop 2019 Earnings Estimates?: https://seekingalpha.com/article/4230631-earnings-roundup-will-analysts-drop-2019-earnings-estimates\n",
      "Federal Reserve Watch: 15 Months Of Reducing The Fed's Securities Portfolio: https://seekingalpha.com/article/4230630-federal-reserve-watch-15-months-reducing-feds-securities-portfolio\n",
      "Santa Delivers Post-Christmas Rally For Stocks And Real Estate: https://seekingalpha.com/article/4230629-santa-delivers-post-christmas-rally-stocks-real-estate\n",
      "S&P 500 Weekly Update: 2018 - The Year In Review; Two Words, Volatility And Transition: https://seekingalpha.com/article/4230628-s-and-p-500-weekly-update-2018-year-review-two-words-volatility-transition\n",
      "The Fed's Triple-Handed Ambiguity: When A Forecast Is A Target And An Indicator: https://seekingalpha.com/article/4230627-feds-triple-handed-ambiguity-forecast-target-indicator\n",
      "Another Benefit Of The Wide Moat ETF: https://seekingalpha.com/article/4230626-another-benefit-wide-moat-etf\n",
      "Chesapeake Energy Corp.: Massacre, What Should Investors Do Now?: https://seekingalpha.com/article/4230622-chesapeake-energy-corp-massacre-investors-now\n",
      "What's In Store For Japan ETFs In 2019: https://seekingalpha.com/article/4230625-store-japan-etfs-2019\n",
      "S&P 500 Snapshot: Slight Bounceback After Volatile Week: https://seekingalpha.com/article/4230624-s-and-p-500-snapshot-slight-bounceback-volatile-week\n",
      "Looking Back; Moving Ahead: Friday Gold Wrap 12.28.18: https://seekingalpha.com/article/4230623-looking-back-moving-ahead-friday-gold-wrap-12_28-18\n",
      "What Investors Should Take Away From Netflix's Interactive 'Black Mirror' Experiment: https://seekingalpha.com/article/4230621-investors-take-away-netflixs-interactive-black-mirror-experiment\n",
      "Look For B&G's Remarkable Dividend Growth To Falter: https://seekingalpha.com/article/4230619-look-b-and-gs-remarkable-dividend-growth-falter\n",
      "Digital Realty: 6.50% From This Datacenter Diversifier: https://seekingalpha.com/article/4230620-digital-realty-6_50-percent-datacenter-diversifier\n",
      "Market Update: December Review: https://seekingalpha.com/article/4230618-market-update-december-review\n",
      "Chart Of The Week: The Dreaded Full Frown: https://seekingalpha.com/article/4230617-chart-week-dreaded-full-frown\n",
      "The Race For SolGold Is Heating Up: https://seekingalpha.com/article/4230616-race-solgold-heating\n",
      "Turning Points: Year-End Edition: https://seekingalpha.com/article/4230615-turning-points-year-end-edition\n",
      "Ross Stores Is Finally A Buy Again: https://seekingalpha.com/article/4230614-ross-stores-finally-buy\n",
      "Antero Resources Shows Why Recent Natural Gas Price Weakness Is Overblown: https://seekingalpha.com/article/4230613-antero-resources-shows-recent-natural-gas-price-weakness-overblown\n",
      "NCS Multistage Needs To Play Its Cards Right: https://seekingalpha.com/article/4230612-ncs-multistage-needs-play-cards-right\n",
      "9.2% Dividend Yield With Earnings Growth From Granite Point Merits A Closer Look: https://seekingalpha.com/article/4230611-9_2-percent-dividend-yield-earnings-growth-granite-point-merits-closer-look\n",
      "Bridgeline Digital, Inc. (BLIN) Roger Kahn on Q4 2018 Results - Earnings Call Transcript: https://seekingalpha.com/article/4230610-bridgeline-digital-inc-blin-roger-kahn-q4-2018-results-earnings-call-transcript\n",
      "Energy Recap: A Look Back At 2018: https://seekingalpha.com/article/4230603-energy-recap-look-back-2018\n",
      "Allergan: Lost Confidence: https://seekingalpha.com/article/4230609-allergan-lost-confidence\n",
      "Endo: How To Play The Sell Off: https://seekingalpha.com/article/4230608-endo-play-sell\n",
      "CEVA: Innovation And Excellence In Digital Signal Processing: https://seekingalpha.com/article/4230607-ceva-innovation-excellence-digital-signal-processing\n",
      "Acorda's INBRIJA Receives Thumbs Up From FDA And Thumbs Down From Analysts: https://seekingalpha.com/article/4230604-acordas-inbrija-receives-thumbs-fda-thumbs-analysts\n"
     ]
    }
   ],
   "source": [
    "for post in d.entries:\n",
    "    url = post.link.split(\"?\")[0]\n",
    "    print(post.title + \": \" + post.link.split(\"?\")[0])\n",
    "    with open(\"links.txt\", \"a\") as f:\n",
    "        f.write(url+\"\\n\")"
   ]
  },
  {
   "cell_type": "code",
   "execution_count": null,
   "metadata": {},
   "outputs": [],
   "source": []
  }
 ],
 "metadata": {
  "kernelspec": {
   "display_name": "Python 3",
   "language": "python",
   "name": "python3"
  },
  "language_info": {
   "codemirror_mode": {
    "name": "ipython",
    "version": 3
   },
   "file_extension": ".py",
   "mimetype": "text/x-python",
   "name": "python",
   "nbconvert_exporter": "python",
   "pygments_lexer": "ipython3",
   "version": "3.6.5"
  }
 },
 "nbformat": 4,
 "nbformat_minor": 2
}
