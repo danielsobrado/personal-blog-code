{
 "cells": [
  {
   "cell_type": "code",
   "execution_count": null,
   "metadata": {},
   "outputs": [],
   "source": [
    "import scrapy\n",
    "from scrapy.crawler import CrawlerRunner\n",
    "from scrapy.utils.log import configure_logging\n",
    "import logging\n",
    "\n",
    "import time\n",
    "\n",
    "class BlogsSpider(scrapy.Spider):\n",
    "    \n",
    "    configure_logging(install_root_handler=False)\n",
    "    \n",
    "    custom_settings = {\n",
    "        'DOWNLOAD_DELAY': 1,\n",
    "        'FEED_URI': './results/blogs_result.json',\n",
    "        'FEED_FORMAT': 'json'\n",
    "    }\n",
    "    \n",
    "    logging.basicConfig(\n",
    "        filename='./logs/scrapy_blogs_log.txt',\n",
    "        format='%(levelname)s: %(message)s',\n",
    "        level=logging.INFO\n",
    "    )\n",
    "\n",
    "    name = \"seeking\"\n",
    "    start_urls = [\n",
    "        'https://seekingalpha.com/latest-articles',\n",
    "    ]\n",
    "\n",
    "    def parse(self, response):\n",
    "        for article in response.xpath(\"//ul[@class='articles-list']/li\"):\n",
    "            article_link=article.xpath(\".//div[@class='media-body']/a[@class='a-title']/@href\").extract_first()\n",
    "            yield response.follow(url=article_link, callback=self.parse_page)\n",
    "        \n",
    "        next_page=response.xpath(\"//li[@class='next']/a/@href\").extract_first()\n",
    "        if next_page is not None:\n",
    "            time.sleep(30)\n",
    "            next_page_link= response.urljoin(next_page)\n",
    "            yield scrapy.Request(url=next_page_link, callback=self.parse)\n",
    "\n",
    "    def parse_page(self, response):\n",
    "        yield { \n",
    "            'article_name': response.xpath(\"//h1[@itemprop='headline']/text()\").extract_first(),\n",
    "            'include': response.xpath(\"//*[@id='a-hd']/div[2]/span[3]/span[2]/@title\").extract(),\n",
    "            'time': response.xpath(\"//*[@id='a-hd']/div[2]/time/@content\").extract_first(),\n",
    "            'author': response.xpath(\"//*[@id='author-hd']/div[2]/div[1]/div[1]/a/span/text()\").extract_first(),\n",
    "            'about': response.xpath(\"//*[@id='about_primary_stocks']\").extract(),\n",
    "            'theme': response.xpath(\"//*[@class='a-themes']\").extract(),\n",
    "            'summary' : response.xpath(\"string(//div[@class='a-sum'])\").extract(),\n",
    "            'article' : response.xpath(\"string(//div[@itemprop='articleBody'])\").extract()\n",
    "        }"
   ]
  },
  {
   "cell_type": "code",
   "execution_count": null,
   "metadata": {},
   "outputs": [],
   "source": [
    "from scrapy.utils.project import get_project_settings\n",
    "from scrapy.crawler import CrawlerProcess\n",
    "\n",
    "settings = get_project_settings()\n",
    "settings.overrides['FEED_FORMAT'] = 'json'\n",
    "settings.overrides['FEED_URI'] = './results/blogs_result.json'\n",
    "\n",
    "process = CrawlerProcess({\n",
    "    'USER_AGENT': 'Mozilla/4.0 (compatible; MSIE 7.0; Windows NT 5.1)'\n",
    "})\n",
    "\n",
    "process.crawl(BlogsSpider)\n",
    "process.start() "
   ]
  },
  {
   "cell_type": "code",
   "execution_count": null,
   "metadata": {},
   "outputs": [],
   "source": []
  }
 ],
 "metadata": {
  "kernelspec": {
   "display_name": "Python 3",
   "language": "python",
   "name": "python3"
  },
  "language_info": {
   "codemirror_mode": {
    "name": "ipython",
    "version": 3
   },
   "file_extension": ".py",
   "mimetype": "text/x-python",
   "name": "python",
   "nbconvert_exporter": "python",
   "pygments_lexer": "ipython3",
   "version": "3.6.5"
  }
 },
 "nbformat": 4,
 "nbformat_minor": 2
}
