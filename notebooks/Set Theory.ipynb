{
 "cells": [
  {
   "cell_type": "markdown",
   "metadata": {},
   "source": [
    "## Basic Concepts\n",
    "A set is a collection of stuff, items, things... We'll call them *elements*.\n",
    "\n",
    "We can have a set called **A**  that contains some numbers:\n",
    "\n",
    "$ A = \\{1,2,3,9\\} $ \n",
    "\n",
    "And a set called **B** than contains names:\n",
    "\n",
    "$ A = \\{Daniel, Alfredo, Vikas, Praveen, Bjorn\\} $ ."
   ]
  },
  {
   "cell_type": "code",
   "execution_count": 3,
   "metadata": {
    "collapsed": false
   },
   "outputs": [
    {
     "name": "stdout",
     "output_type": "stream",
     "text": [
      "Set A: {9, 2, 3, 1}\n",
      "Set B: {'Vikas', 'Alfredo', 'Praveen', 'Daniel', 'Bjorn'}\n"
     ]
    }
   ],
   "source": [
    "A = {1,2,3,9}\n",
    "print(\"Set A: \"+str(A))\n",
    "B = {\"Daniel\", \"Alfredo\", \"Vikas\", \"Praveen\" ,\"Bjorn\"}\n",
    "print(\"Set B: \"+str(B))"
   ]
  },
  {
   "cell_type": "markdown",
   "metadata": {},
   "source": [
    "We can say that an element is part of a set: $ 3 \\in A $\n",
    "We can also say that 5 is not an element of A:  $ 5 \\notin A $"
   ]
  },
  {
   "cell_type": "markdown",
   "metadata": {},
   "source": [
    "## Union"
   ]
  },
  {
   "cell_type": "code",
   "execution_count": 7,
   "metadata": {
    "collapsed": false
   },
   "outputs": [
    {
     "name": "stdout",
     "output_type": "stream",
     "text": [
      "{1, 2, 3, 8, 9, 10}\n",
      "{1, 2, 3, 8, 9, 10}\n"
     ]
    }
   ],
   "source": [
    "A = {1,2,3,9}\n",
    "B = {1,3,8,10}\n",
    "\n",
    "# Using | operator\n",
    "print(\"\" + str(A | B))\n",
    "\n",
    "# Using union function\n",
    "print(A.union(B))"
   ]
  },
  {
   "cell_type": "markdown",
   "metadata": {},
   "source": [
    "## Interception"
   ]
  },
  {
   "cell_type": "code",
   "execution_count": 9,
   "metadata": {
    "collapsed": false
   },
   "outputs": [
    {
     "name": "stdout",
     "output_type": "stream",
     "text": [
      "{1, 3}\n",
      "{1, 3}\n"
     ]
    }
   ],
   "source": [
    "A = {1,2,3,9}\n",
    "B = {1,3,8,10}\n",
    "\n",
    "# Using | operator\n",
    "print(\"\" + str(A & B))\n",
    "\n",
    "# Using intersection function\n",
    "print(A.intersection(B))"
   ]
  },
  {
   "cell_type": "code",
   "execution_count": null,
   "metadata": {
    "collapsed": true
   },
   "outputs": [],
   "source": []
  }
 ],
 "metadata": {
  "anaconda-cloud": {},
  "kernelspec": {
   "display_name": "Python [conda env:python35]",
   "language": "python",
   "name": "conda-env-python35-py"
  },
  "language_info": {
   "codemirror_mode": {
    "name": "ipython",
    "version": 3
   },
   "file_extension": ".py",
   "mimetype": "text/x-python",
   "name": "python",
   "nbconvert_exporter": "python",
   "pygments_lexer": "ipython3",
   "version": "3.5.2"
  }
 },
 "nbformat": 4,
 "nbformat_minor": 1
}
