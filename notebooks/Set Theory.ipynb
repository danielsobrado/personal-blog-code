{
 "cells": [
  {
   "cell_type": "markdown",
   "metadata": {},
   "source": [
    "## Basic Concepts\n",
    "A set is a collection of stuff, items, things... We'll call them *elements*.\n",
    "\n",
    "We can have a set called **A**  that contains some numbers:\n",
    "\n",
    "$ A = \\{1,2,3,9\\} $ \n",
    "\n",
    "And a set called **B** than contains names:\n",
    "\n",
    "$ A = \\{Daniel, Alfredo, Vikas, Praveen, Bjorn\\} $ ."
   ]
  },
  {
   "cell_type": "code",
   "execution_count": 1,
   "metadata": {},
   "outputs": [
    {
     "name": "stdout",
     "output_type": "stream",
     "text": [
      "Set A: {1, 2, 3, 9}\n",
      "Set B: {'Bjorn', 'Praveen', 'Daniel', 'Vikas', 'Alfredo'}\n"
     ]
    }
   ],
   "source": [
    "A = {1,2,3,9}\n",
    "print(\"Set A: \"+str(A))\n",
    "B = {\"Daniel\", \"Alfredo\", \"Vikas\", \"Praveen\" ,\"Bjorn\"}\n",
    "print(\"Set B: \"+str(B))"
   ]
  },
  {
   "cell_type": "markdown",
   "metadata": {},
   "source": [
    "We can say that an element is part of a set: $ 3 \\in A $\n",
    "We can also say that 5 is not an element of A:  $ 5 \\notin A $"
   ]
  },
  {
   "cell_type": "markdown",
   "metadata": {},
   "source": [
    "Order is not important:"
   ]
  },
  {
   "cell_type": "code",
   "execution_count": 2,
   "metadata": {},
   "outputs": [
    {
     "name": "stdout",
     "output_type": "stream",
     "text": [
      "Set C: {1, 2, 3, 9}\n"
     ]
    }
   ],
   "source": [
    "C = {1,9,2,3}\n",
    "print(\"Set C: \" + str(C))"
   ]
  },
  {
   "cell_type": "markdown",
   "metadata": {},
   "source": [
    "Duplicates are irrelevant, we only care about distinct elements:"
   ]
  },
  {
   "cell_type": "code",
   "execution_count": 3,
   "metadata": {},
   "outputs": [
    {
     "name": "stdout",
     "output_type": "stream",
     "text": [
      "Set D:{1, 2, 3, 9}\n"
     ]
    }
   ],
   "source": [
    "D = {1,9,2,3,1,9,2,3}\n",
    "print(\"Set D:\" + str(D))"
   ]
  },
  {
   "cell_type": "markdown",
   "metadata": {},
   "source": [
    "## Union\n",
    "\n",
    "$ A \\cup B $\n",
    "\n",
    "$ A \\cup B= \\{ x : X \\in A \\text { or } X  \\in B \\} $   (We call this notation, the *Set-Builder Notation*)"
   ]
  },
  {
   "cell_type": "code",
   "execution_count": 4,
   "metadata": {},
   "outputs": [
    {
     "name": "stdout",
     "output_type": "stream",
     "text": [
      "{1, 2, 3, 8, 9, 10}\n",
      "{1, 2, 3, 8, 9, 10}\n"
     ]
    }
   ],
   "source": [
    "A = {1,2,3,9}\n",
    "B = {1,3,8,10}\n",
    "\n",
    "# Using | operator\n",
    "print(\"\" + str(A | B))\n",
    "\n",
    "# Using union function\n",
    "print(A.union(B))"
   ]
  },
  {
   "cell_type": "markdown",
   "metadata": {},
   "source": [
    "## Interception\n",
    "\n",
    "$ A \\cap B $\n",
    "\n",
    "$ A \\cap B = \\{ x : X \\in A \\text { and } X \\in B \\} $"
   ]
  },
  {
   "cell_type": "code",
   "execution_count": 5,
   "metadata": {},
   "outputs": [
    {
     "name": "stdout",
     "output_type": "stream",
     "text": [
      "{1, 3}\n",
      "{1, 3}\n"
     ]
    }
   ],
   "source": [
    "A = {1,2,3,9}\n",
    "B = {1,3,8,10}\n",
    "\n",
    "# Using | operator\n",
    "print(\"\" + str(A & B))\n",
    "\n",
    "# Using intersection function\n",
    "print(A.intersection(B))"
   ]
  },
  {
   "cell_type": "markdown",
   "metadata": {
    "collapsed": true
   },
   "source": [
    "# Plotting Venn Diagrams\n",
    "Let's use: \n",
    "\n",
    "*pip install matplotlib-venn*"
   ]
  },
  {
   "cell_type": "code",
   "execution_count": 7,
   "metadata": {},
   "outputs": [
    {
     "data": {
      "text/plain": [
       "<matplotlib_venn._common.VennDiagram at 0x205b8cfe518>"
      ]
     },
     "execution_count": 7,
     "metadata": {},
     "output_type": "execute_result"
    },
    {
     "data": {
      "image/png": "[encoded data removed]",
      "text/plain": [
       "<Figure size 432x288 with 1 Axes>"
      ]
     },
     "metadata": {},
     "output_type": "display_data"
    }
   ],
   "source": [
    "from matplotlib_venn import venn2\n",
    "%matplotlib inline\n",
    "\n",
    "venn2(subsets = (3, 2, 1))"
   ]
  },
  {
   "cell_type": "code",
   "execution_count": null,
   "metadata": {},
   "outputs": [],
   "source": [
    "    "
   ]
  },
  {
   "cell_type": "code",
   "execution_count": null,
   "metadata": {},
   "outputs": [],
   "source": []
  },
  {
   "cell_type": "code",
   "execution_count": null,
   "metadata": {},
   "outputs": [],
   "source": []
  }
 ],
 "metadata": {
  "anaconda-cloud": {},
  "kernelspec": {
   "display_name": "Python 3",
   "language": "python",
   "name": "python3"
  },
  "language_info": {
   "codemirror_mode": {
    "name": "ipython",
    "version": 3
   },
   "file_extension": ".py",
   "mimetype": "text/x-python",
   "name": "python",
   "nbconvert_exporter": "python",
   "pygments_lexer": "ipython3",
   "version": "3.6.7"
  }
 },
 "nbformat": 4,
 "nbformat_minor": 1
}
